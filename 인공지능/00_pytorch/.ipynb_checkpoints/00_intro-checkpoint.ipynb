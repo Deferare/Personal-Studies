{
 "cells": [
  {
   "cell_type": "code",
   "execution_count": 158,
   "id": "8775949c-8c75-47a4-87ef-eeaa0df2e4af",
   "metadata": {},
   "outputs": [],
   "source": [
    "import tensorflow\n",
    "import torch\n",
    "import torch.nn as nn\n",
    "\n",
    "import numpy as np\n",
    "import matplotlib.pyplot as plt\n",
    "x_train = np.array([[3.3], [4.4], [5.5], [6.71], [6.93], [4.168], \n",
    "                    [9.779], [6.182], [7.59], [2.167], [7.042], \n",
    "                    [10.791], [5.313], [7.997], [3.1]], dtype=np.float32)\n",
    "\n",
    "y_train = np.array([[1.7], [2.76], [2.09], [3.19], [1.694], [1.573], \n",
    "                    [3.366], [2.596], [2.53], [1.221], [2.827], \n",
    "                    [3.465], [1.65], [2.904], [1.3]], dtype=np.float32)\n",
    "\n",
    "input_size = 1\n",
    "output_size = 1\n",
    "lr = 0.001\n",
    "epoch = 10"
   ]
  },
  {
   "cell_type": "code",
   "execution_count": 159,
   "id": "5c0301d6",
   "metadata": {},
   "outputs": [],
   "source": [
    "model = nn.Linear(input_size, output_size)"
   ]
  },
  {
   "cell_type": "code",
   "execution_count": 165,
   "id": "a83f4944",
   "metadata": {},
   "outputs": [
    {
     "name": "stdout",
     "output_type": "stream",
     "text": [
      "0.42015981674194336\n",
      "0.37919533252716064\n",
      "0.3450031280517578\n",
      "0.3164634704589844\n",
      "0.2926420569419861\n",
      "0.2727585732936859\n",
      "0.256162166595459\n",
      "0.24230924248695374\n",
      "0.23074637353420258\n",
      "0.22109480202198029\n"
     ]
    }
   ],
   "source": [
    "loss_mse = nn.MSELoss()\n",
    "optimizer = torch.optim.SGD(model.parameters(), lr=lr)\n",
    "\n",
    "for epo in range(epoch):\n",
    "    x = torch.from_numpy(x_train)\n",
    "    y = torch.from_numpy(y_train)\n",
    "    outputs = model(x)\n",
    "    loss = loss_mse(outputs, y)\n",
    "    optimizer.zero_grad()\n",
    "    loss.backward()\n",
    "    optimizer.step()\n",
    "    print(loss.item())"
   ]
  },
  {
   "cell_type": "code",
   "execution_count": 166,
   "id": "6cf84ce9",
   "metadata": {},
   "outputs": [
    {
     "data": {
      "image/png": "[encoded data removed]",
      "text/plain": [
       "<Figure size 432x288 with 1 Axes>"
      ]
     },
     "metadata": {
      "needs_background": "light"
     },
     "output_type": "display_data"
    }
   ],
   "source": [
    "predicted = model(torch.from_numpy(x_train)).detach().numpy()\n",
    "plt.plot(x_train, y_train, \"ro\", label=\"Original data\")\n",
    "plt.plot(x_train, predicted)\n",
    "plt.legend()\n",
    "plt.show()"
   ]
  },
  {
   "cell_type": "code",
   "execution_count": null,
   "id": "5c3e9157",
   "metadata": {},
   "outputs": [],
   "source": []
  }
 ],
 "metadata": {
  "kernelspec": {
   "display_name": "Python 3",
   "language": "python",
   "name": "python3"
  },
  "language_info": {
   "codemirror_mode": {
    "name": "ipython",
    "version": 3
   },
   "file_extension": ".py",
   "mimetype": "text/x-python",
   "name": "python",
   "nbconvert_exporter": "python",
   "pygments_lexer": "ipython3",
   "version": "3.7.10"
  }
 },
 "nbformat": 4,
 "nbformat_minor": 5
}
