{
 "cells": [
  {
   "cell_type": "markdown",
   "id": "f852e4e6",
   "metadata": {},
   "source": [
    "### 종목 코드와 날짜 넣고 엑셀로 저장."
   ]
  },
  {
   "cell_type": "code",
   "execution_count": 8,
   "id": "a49057d1",
   "metadata": {},
   "outputs": [],
   "source": [
    "import FinanceDataReader as fdr"
   ]
  },
  {
   "cell_type": "code",
   "execution_count": 11,
   "id": "a7489155",
   "metadata": {},
   "outputs": [],
   "source": [
    "def stock_to_xlsx(code, start, end, path):\n",
    "    df = fdr.DataReader(code, start, end)\n",
    "    df.to_excel(path+\"/\"+code+\".xlsx\")"
   ]
  },
  {
   "cell_type": "code",
   "execution_count": 12,
   "id": "2bcf58e0",
   "metadata": {},
   "outputs": [],
   "source": [
    "code = \"005930\" # 종목코드\n",
    "start = \"2015-01-02\" # 날짜1\n",
    "end = \"2020-12-30\" # 날짜2\n",
    "# 저장 위치\n",
    "path = \"/Users/ubinyou/Documents/study/Personal-Study/Artificial Intelligence/CNN 주가 예측/데이터 전처리 관련/종목 엑셀\""
   ]
  },
  {
   "cell_type": "code",
   "execution_count": 13,
   "id": "ad011366",
   "metadata": {},
   "outputs": [],
   "source": [
    "stock_to_xlsx(code, start, end, path)"
   ]
  },
  {
   "cell_type": "code",
   "execution_count": null,
   "id": "3b659100",
   "metadata": {},
   "outputs": [],
   "source": []
  }
 ],
 "metadata": {
  "kernelspec": {
   "display_name": "Python 3 (ipykernel)",
   "language": "python",
   "name": "python3"
  },
  "language_info": {
   "codemirror_mode": {
    "name": "ipython",
    "version": 3
   },
   "file_extension": ".py",
   "mimetype": "text/x-python",
   "name": "python",
   "nbconvert_exporter": "python",
   "pygments_lexer": "ipython3",
   "version": "3.8.11"
  }
 },
 "nbformat": 4,
 "nbformat_minor": 5
}
