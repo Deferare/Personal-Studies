{
 "cells": [
  {
   "cell_type": "code",
   "execution_count": 2,
   "metadata": {
    "colab": {
     "base_uri": "https://localhost:8080/"
    },
    "executionInfo": {
     "elapsed": 3248,
     "status": "ok",
     "timestamp": 1630902979211,
     "user": {
      "displayName": "SEUNG HOON KANG",
      "photoUrl": "https://lh3.googleusercontent.com/a-/AOh14GjfqiLLUnHE4ChMj71apfRsTs6xwEGo_M4NGuR7=s64",
      "userId": "05643396865444436843"
     },
     "user_tz": -540
    },
    "id": "th3P-AlkTFUX",
    "outputId": "24574979-f2e4-4f42-9927-a283326c31f7"
   },
   "outputs": [
    {
     "name": "stdout",
     "output_type": "stream",
     "text": [
      "Collecting mpl_finance\n",
      "  Using cached mpl_finance-0.10.1-py3-none-any.whl (8.4 kB)\n",
      "Requirement already satisfied: matplotlib in /Users/ubinyou/miniforge3/envs/Tensorflow/lib/python3.8/site-packages (from mpl_finance) (3.4.3)\n",
      "Requirement already satisfied: pyparsing>=2.2.1 in /Users/ubinyou/miniforge3/envs/Tensorflow/lib/python3.8/site-packages (from matplotlib->mpl_finance) (2.4.7)\n",
      "Requirement already satisfied: python-dateutil>=2.7 in /Users/ubinyou/miniforge3/envs/Tensorflow/lib/python3.8/site-packages (from matplotlib->mpl_finance) (2.8.2)\n",
      "Requirement already satisfied: kiwisolver>=1.0.1 in /Users/ubinyou/miniforge3/envs/Tensorflow/lib/python3.8/site-packages (from matplotlib->mpl_finance) (1.3.1)\n",
      "Requirement already satisfied: pillow>=6.2.0 in /Users/ubinyou/miniforge3/envs/Tensorflow/lib/python3.8/site-packages (from matplotlib->mpl_finance) (8.3.1)\n",
      "Requirement already satisfied: numpy>=1.16 in /Users/ubinyou/miniforge3/envs/Tensorflow/lib/python3.8/site-packages (from matplotlib->mpl_finance) (1.19.5)\n",
      "Requirement already satisfied: cycler>=0.10 in /Users/ubinyou/miniforge3/envs/Tensorflow/lib/python3.8/site-packages (from matplotlib->mpl_finance) (0.10.0)\n",
      "Requirement already satisfied: six in /Users/ubinyou/miniforge3/envs/Tensorflow/lib/python3.8/site-packages (from cycler>=0.10->matplotlib->mpl_finance) (1.15.0)\n",
      "Installing collected packages: mpl-finance\n",
      "Successfully installed mpl-finance-0.10.1\n",
      "Note: you may need to restart the kernel to use updated packages.\n"
     ]
    }
   ],
   "source": [
    "pip install mpl_finance"
   ]
  },
  {
   "cell_type": "code",
   "execution_count": 19,
   "metadata": {
    "colab": {
     "base_uri": "https://localhost:8080/"
    },
    "executionInfo": {
     "elapsed": 2933,
     "status": "ok",
     "timestamp": 1630902982141,
     "user": {
      "displayName": "SEUNG HOON KANG",
      "photoUrl": "https://lh3.googleusercontent.com/a-/AOh14GjfqiLLUnHE4ChMj71apfRsTs6xwEGo_M4NGuR7=s64",
      "userId": "05643396865444436843"
     },
     "user_tz": -540
    },
    "id": "MCMVPnALVUc3",
    "outputId": "b2a14b5b-8975-40cb-fd0f-6fc3f4619743"
   },
   "outputs": [
    {
     "name": "stdout",
     "output_type": "stream",
     "text": [
      "Requirement already satisfied: finance-datareader in /usr/local/lib/python3.7/dist-packages (0.9.31)\n",
      "Requirement already satisfied: pandas>=0.19.2 in /usr/local/lib/python3.7/dist-packages (from finance-datareader) (1.1.5)\n",
      "Requirement already satisfied: requests-file in /usr/local/lib/python3.7/dist-packages (from finance-datareader) (1.5.1)\n",
      "Requirement already satisfied: requests>=2.3.0 in /usr/local/lib/python3.7/dist-packages (from finance-datareader) (2.23.0)\n",
      "Requirement already satisfied: lxml in /usr/local/lib/python3.7/dist-packages (from finance-datareader) (4.2.6)\n",
      "Requirement already satisfied: tqdm in /usr/local/lib/python3.7/dist-packages (from finance-datareader) (4.62.0)\n",
      "Requirement already satisfied: pytz>=2017.2 in /usr/local/lib/python3.7/dist-packages (from pandas>=0.19.2->finance-datareader) (2018.9)\n",
      "Requirement already satisfied: python-dateutil>=2.7.3 in /usr/local/lib/python3.7/dist-packages (from pandas>=0.19.2->finance-datareader) (2.8.2)\n",
      "Requirement already satisfied: numpy>=1.15.4 in /usr/local/lib/python3.7/dist-packages (from pandas>=0.19.2->finance-datareader) (1.19.5)\n",
      "Requirement already satisfied: six>=1.5 in /usr/local/lib/python3.7/dist-packages (from python-dateutil>=2.7.3->pandas>=0.19.2->finance-datareader) (1.15.0)\n",
      "Requirement already satisfied: idna<3,>=2.5 in /usr/local/lib/python3.7/dist-packages (from requests>=2.3.0->finance-datareader) (2.10)\n",
      "Requirement already satisfied: chardet<4,>=3.0.2 in /usr/local/lib/python3.7/dist-packages (from requests>=2.3.0->finance-datareader) (3.0.4)\n",
      "Requirement already satisfied: urllib3!=1.25.0,!=1.25.1,<1.26,>=1.21.1 in /usr/local/lib/python3.7/dist-packages (from requests>=2.3.0->finance-datareader) (1.24.3)\n",
      "Requirement already satisfied: certifi>=2017.4.17 in /usr/local/lib/python3.7/dist-packages (from requests>=2.3.0->finance-datareader) (2021.5.30)\n"
     ]
    }
   ],
   "source": [
    "pip install finance-datareader"
   ]
  },
  {
   "cell_type": "code",
   "execution_count": 19,
   "metadata": {
    "executionInfo": {
     "elapsed": 5,
     "status": "ok",
     "timestamp": 1630902982142,
     "user": {
      "displayName": "SEUNG HOON KANG",
      "photoUrl": "https://lh3.googleusercontent.com/a-/AOh14GjfqiLLUnHE4ChMj71apfRsTs6xwEGo_M4NGuR7=s64",
      "userId": "05643396865444436843"
     },
     "user_tz": -540
    },
    "id": "k8UHgY9UVfmW"
   },
   "outputs": [],
   "source": []
  },
  {
   "cell_type": "code",
   "execution_count": 1,
   "metadata": {
    "executionInfo": {
     "elapsed": 3,
     "status": "ok",
     "timestamp": 1630902982142,
     "user": {
      "displayName": "SEUNG HOON KANG",
      "photoUrl": "https://lh3.googleusercontent.com/a-/AOh14GjfqiLLUnHE4ChMj71apfRsTs6xwEGo_M4NGuR7=s64",
      "userId": "05643396865444436843"
     },
     "user_tz": -540
    },
    "id": "xQIiNDzWTgu9"
   },
   "outputs": [
    {
     "name": "stderr",
     "output_type": "stream",
     "text": [
      "/Users/ubinyou/miniforge3/envs/Tensorflow/lib/python3.8/site-packages/mpl_finance.py:16: DeprecationWarning: \n",
      "\n",
      "  =================================================================\n",
      "\n",
      "   WARNING: `mpl_finance` is deprecated:\n",
      "\n",
      "    Please use `mplfinance` instead (no hyphen, no underscore).\n",
      "\n",
      "    To install: `pip install --upgrade mplfinance` \n",
      "\n",
      "   For more information, see: https://pypi.org/project/mplfinance/\n",
      "\n",
      "  =================================================================\n",
      "\n",
      "  __warnings.warn('\\n\\n  ================================================================='+\n"
     ]
    }
   ],
   "source": [
    "import os\n",
    "import pandas as pd\n",
    "import numpy as np\n",
    "import matplotlib.pyplot as plt\n",
    "from pathlib import Path\n",
    "\n",
    "from shutil import copyfile, move\n",
    "from mpl_finance import candlestick2_ochl"
   ]
  },
  {
   "cell_type": "code",
   "execution_count": 2,
   "metadata": {
    "executionInfo": {
     "elapsed": 265,
     "status": "ok",
     "timestamp": 1630904915136,
     "user": {
      "displayName": "SEUNG HOON KANG",
      "photoUrl": "https://lh3.googleusercontent.com/a-/AOh14GjfqiLLUnHE4ChMj71apfRsTs6xwEGo_M4NGuR7=s64",
      "userId": "05643396865444436843"
     },
     "user_tz": -540
    },
    "id": "SdOdQWK6TtDi"
   },
   "outputs": [],
   "source": [
    "# 2차원 주식 데이터를 캔들 차트 이미지 데이터로 변환하는 함수.\n",
    "def matlix_to_candleStick(df, seq_len, dimension):\n",
    "    print(\"Converting Matlix to candlestick\")\n",
    "\n",
    "    df.fillna(0)\n",
    "    plt.style.use('dark_background')\n",
    "    df.reset_index(inplace=True)\n",
    "\n",
    "    figs = np.zeros((len(df)-1, dimension, dimension, 3))\n",
    "    labels = []\n",
    "    for i in range(0, len(df)-1):\n",
    "        c = df.loc[i:i + int(seq_len) - 1, :]\n",
    "        c_ = df.loc[i:i + int(seq_len), :]\n",
    "        if len(c) == int(seq_len):\n",
    "            my_dpi = 96\n",
    "            fig = plt.figure(figsize=(dimension / my_dpi,\n",
    "                                      dimension / my_dpi), dpi=my_dpi)\n",
    "            ax1 = fig.add_subplot(1, 1, 1)\n",
    "            candlestick2_ochl(ax1, c['Open'], c['Close'], c['High'],\n",
    "                              c['Low'], width=1,\n",
    "                              colorup='#77d879', colordown='#db3f3f')\n",
    "            ax1.grid(False)\n",
    "            ax1.set_xticklabels([])\n",
    "            ax1.set_yticklabels([])\n",
    "            ax1.xaxis.set_visible(False)\n",
    "            ax1.yaxis.set_visible(False)\n",
    "            ax1.axis('off')\n",
    "\n",
    "            # create the second axis for the volume bar-plot\n",
    "            # Add a seconds axis for the volume overlay\n",
    "          \n",
    "        starting = c_[\"Close\"].iloc[-2]\n",
    "        endvalue = c_[\"Close\"].iloc[-1]\n",
    "        if endvalue > starting :\n",
    "            label = 1\n",
    "        else :\n",
    "            label = 0\n",
    "        labels.append(label)\n",
    "\n",
    "        fig.canvas.draw()\n",
    "        fig_np = np.array(fig.canvas.renderer._renderer)\n",
    "        figs[i] = fig_np[:,:,:3]\n",
    "\n",
    "        plt.close(fig)\n",
    "        # normal length - end\n",
    "\n",
    "    print(\"Converting Matlix to candlestik finished.\")\n",
    "    return figs, labels"
   ]
  },
  {
   "cell_type": "code",
   "execution_count": 3,
   "metadata": {
    "colab": {
     "base_uri": "https://localhost:8080/"
    },
    "executionInfo": {
     "elapsed": 30225,
     "status": "ok",
     "timestamp": 1630904839175,
     "user": {
      "displayName": "SEUNG HOON KANG",
      "photoUrl": "https://lh3.googleusercontent.com/a-/AOh14GjfqiLLUnHE4ChMj71apfRsTs6xwEGo_M4NGuR7=s64",
      "userId": "05643396865444436843"
     },
     "user_tz": -540
    },
    "id": "5fBpUQHZV5Xs",
    "outputId": "21a15ad9-acce-4c10-f893-32ce47fe5b0e"
   },
   "outputs": [
    {
     "name": "stdout",
     "output_type": "stream",
     "text": [
      "Converting Matlix to candlestick\n",
      "Converting Matlix to candlestik finished.\n"
     ]
    }
   ],
   "source": [
    "import FinanceDataReader as fdr\n",
    "\n",
    "# 삼성전자(005930) 전체 (2019-01-01 ~ 현재)\n",
    "df = fdr.DataReader('005930', \"20190101\")\n",
    "\n",
    "# 일수\n",
    "seq_len = 10\n",
    "\n",
    "# 캔들스틱 크기\n",
    "dimension = 48\n",
    "\n",
    "figures, labels = matlix_to_candleStick(df, seq_len, dimension)"
   ]
  },
  {
   "cell_type": "code",
   "execution_count": 4,
   "metadata": {
    "colab": {
     "base_uri": "https://localhost:8080/"
    },
    "executionInfo": {
     "elapsed": 330,
     "status": "ok",
     "timestamp": 1630904920307,
     "user": {
      "displayName": "SEUNG HOON KANG",
      "photoUrl": "https://lh3.googleusercontent.com/a-/AOh14GjfqiLLUnHE4ChMj71apfRsTs6xwEGo_M4NGuR7=s64",
      "userId": "05643396865444436843"
     },
     "user_tz": -540
    },
    "id": "P_4XvrcTWyd8",
    "outputId": "d7374c5d-6093-4957-9ef2-2176ae6a84b8"
   },
   "outputs": [
    {
     "name": "stdout",
     "output_type": "stream",
     "text": [
      "(663,) (663, 48, 48, 3)\n"
     ]
    }
   ],
   "source": [
    "#위 함수로 생성된 figures는 값의 범위가 0~255 이기 때문에 0~1로 맞춰주기 위해 255로 나눔.\n",
    "figures = figures/255.0\n",
    "print(np.shape(labels), np.shape(figures))"
   ]
  },
  {
   "cell_type": "code",
   "execution_count": 5,
   "metadata": {
    "executionInfo": {
     "elapsed": 363,
     "status": "ok",
     "timestamp": 1630904966667,
     "user": {
      "displayName": "SEUNG HOON KANG",
      "photoUrl": "https://lh3.googleusercontent.com/a-/AOh14GjfqiLLUnHE4ChMj71apfRsTs6xwEGo_M4NGuR7=s64",
      "userId": "05643396865444436843"
     },
     "user_tz": -540
    },
    "id": "rlzxb-yuX0ua"
   },
   "outputs": [],
   "source": [
    "def single_stock_generator(chart, labels, batch_size) :\n",
    "    #output [chart, labels]\n",
    "    while True :\n",
    "        stock_batch = np.zeros(shape=(batch_size, dimension, dimension, 3))\n",
    "        label_batch = np.zeros(shape=(batch_size, ))\n",
    "        for i in range(batch_size) :\n",
    "            idx = np.random.randint(len(labels))\n",
    "            stock_batch[i] = chart[idx]\n",
    "            label_batch[i] = labels[idx]\n",
    "\n",
    "        yield stock_batch, label_batch"
   ]
  },
  {
   "cell_type": "code",
   "execution_count": 6,
   "metadata": {
    "executionInfo": {
     "elapsed": 2,
     "status": "ok",
     "timestamp": 1630904967064,
     "user": {
      "displayName": "SEUNG HOON KANG",
      "photoUrl": "https://lh3.googleusercontent.com/a-/AOh14GjfqiLLUnHE4ChMj71apfRsTs6xwEGo_M4NGuR7=s64",
      "userId": "05643396865444436843"
     },
     "user_tz": -540
    },
    "id": "x2z90OR2ZY3f"
   },
   "outputs": [],
   "source": [
    "train_len = 1500\n",
    "batch_size = 16\n",
    "train_gen = single_stock_generator(figures[:train_len], labels[:train_len], batch_size)\n",
    "test_gen = single_stock_generator(figures[train_len:], labels[train_len:], batch_size)"
   ]
  },
  {
   "cell_type": "code",
   "execution_count": 7,
   "metadata": {
    "colab": {
     "base_uri": "https://localhost:8080/"
    },
    "executionInfo": {
     "elapsed": 4,
     "status": "ok",
     "timestamp": 1630904967692,
     "user": {
      "displayName": "SEUNG HOON KANG",
      "photoUrl": "https://lh3.googleusercontent.com/a-/AOh14GjfqiLLUnHE4ChMj71apfRsTs6xwEGo_M4NGuR7=s64",
      "userId": "05643396865444436843"
     },
     "user_tz": -540
    },
    "id": "70Uu_-frZezs",
    "outputId": "11d48328-4a1b-44e2-a27a-61f850d1955e"
   },
   "outputs": [
    {
     "name": "stdout",
     "output_type": "stream",
     "text": [
      "Chart image shape :  (16, 48, 48, 3)\n",
      "Label shape : (16,)\n"
     ]
    }
   ],
   "source": [
    "tmp_data = next(train_gen)\n",
    "print(\"Chart image shape : \",np.shape(tmp_data[0]))\n",
    "print(\"Label shape :\",np.shape(tmp_data[1]))"
   ]
  },
  {
   "cell_type": "code",
   "execution_count": 8,
   "metadata": {
    "executionInfo": {
     "elapsed": 344,
     "status": "ok",
     "timestamp": 1630904983726,
     "user": {
      "displayName": "SEUNG HOON KANG",
      "photoUrl": "https://lh3.googleusercontent.com/a-/AOh14GjfqiLLUnHE4ChMj71apfRsTs6xwEGo_M4NGuR7=s64",
      "userId": "05643396865444436843"
     },
     "user_tz": -540
    },
    "id": "zCVQpDm6ZiW0"
   },
   "outputs": [],
   "source": [
    "import matplotlib as mpl\n",
    "import matplotlib.pylab as plt"
   ]
  },
  {
   "cell_type": "code",
   "execution_count": 9,
   "metadata": {
    "colab": {
     "base_uri": "https://localhost:8080/",
     "height": 267
    },
    "executionInfo": {
     "elapsed": 3,
     "status": "ok",
     "timestamp": 1630904984127,
     "user": {
      "displayName": "SEUNG HOON KANG",
      "photoUrl": "https://lh3.googleusercontent.com/a-/AOh14GjfqiLLUnHE4ChMj71apfRsTs6xwEGo_M4NGuR7=s64",
      "userId": "05643396865444436843"
     },
     "user_tz": -540
    },
    "id": "uW6mW916ZsMT",
    "outputId": "ef9c6900-99ee-43b9-eeb9-b4030f5d7d19"
   },
   "outputs": [
    {
     "data": {
      "image/png": "[encoded data removed]",
      "text/plain": [
       "<Figure size 432x288 with 1 Axes>"
      ]
     },
     "metadata": {},
     "output_type": "display_data"
    }
   ],
   "source": [
    "plt.figure()\n",
    "plt.imshow(tmp_data[0][0][:,:,:])\n",
    "plt.show()"
   ]
  },
  {
   "cell_type": "code",
   "execution_count": null,
   "metadata": {
    "executionInfo": {
     "elapsed": 251,
     "status": "ok",
     "timestamp": 1630905057315,
     "user": {
      "displayName": "SEUNG HOON KANG",
      "photoUrl": "https://lh3.googleusercontent.com/a-/AOh14GjfqiLLUnHE4ChMj71apfRsTs6xwEGo_M4NGuR7=s64",
      "userId": "05643396865444436843"
     },
     "user_tz": -540
    },
    "id": "xOreMQvRZ2ak"
   },
   "outputs": [],
   "source": [
    "import tensorflow as tf"
   ]
  },
  {
   "cell_type": "code",
   "execution_count": null,
   "metadata": {
    "executionInfo": {
     "elapsed": 4,
     "status": "ok",
     "timestamp": 1630905058086,
     "user": {
      "displayName": "SEUNG HOON KANG",
      "photoUrl": "https://lh3.googleusercontent.com/a-/AOh14GjfqiLLUnHE4ChMj71apfRsTs6xwEGo_M4NGuR7=s64",
      "userId": "05643396865444436843"
     },
     "user_tz": -540
    },
    "id": "JT0vlRIzaHce"
   },
   "outputs": [],
   "source": [
    "from tensorflow import keras\n",
    "from tensorflow.keras import layers"
   ]
  },
  {
   "cell_type": "code",
   "execution_count": 62,
   "metadata": {
    "colab": {
     "base_uri": "https://localhost:8080/"
    },
    "executionInfo": {
     "elapsed": 344,
     "status": "ok",
     "timestamp": 1630905075297,
     "user": {
      "displayName": "SEUNG HOON KANG",
      "photoUrl": "https://lh3.googleusercontent.com/a-/AOh14GjfqiLLUnHE4ChMj71apfRsTs6xwEGo_M4NGuR7=s64",
      "userId": "05643396865444436843"
     },
     "user_tz": -540
    },
    "id": "COYWJyc_aRda",
    "outputId": "7ef9e922-8d73-45d9-8231-e78b1f84d666"
   },
   "outputs": [
    {
     "name": "stdout",
     "output_type": "stream",
     "text": [
      "Model: \"model_2\"\n",
      "_________________________________________________________________\n",
      "Layer (type)                 Output Shape              Param #   \n",
      "=================================================================\n",
      "input_3 (InputLayer)         [(None, 48, 48, 3)]       0         \n",
      "_________________________________________________________________\n",
      "conv2d_8 (Conv2D)            (None, 48, 48, 32)        896       \n",
      "_________________________________________________________________\n",
      "max_pooling2d_8 (MaxPooling2 (None, 24, 24, 32)        0         \n",
      "_________________________________________________________________\n",
      "conv2d_9 (Conv2D)            (None, 24, 24, 48)        13872     \n",
      "_________________________________________________________________\n",
      "max_pooling2d_9 (MaxPooling2 (None, 12, 12, 48)        0         \n",
      "_________________________________________________________________\n",
      "dropout_6 (Dropout)          (None, 12, 12, 48)        0         \n",
      "_________________________________________________________________\n",
      "conv2d_10 (Conv2D)           (None, 12, 12, 64)        27712     \n",
      "_________________________________________________________________\n",
      "max_pooling2d_10 (MaxPooling (None, 6, 6, 64)          0         \n",
      "_________________________________________________________________\n",
      "conv2d_11 (Conv2D)           (None, 6, 6, 96)          55392     \n",
      "_________________________________________________________________\n",
      "max_pooling2d_11 (MaxPooling (None, 3, 3, 96)          0         \n",
      "_________________________________________________________________\n",
      "dropout_7 (Dropout)          (None, 3, 3, 96)          0         \n",
      "_________________________________________________________________\n",
      "flatten_2 (Flatten)          (None, 864)               0         \n",
      "_________________________________________________________________\n",
      "dense_4 (Dense)              (None, 256)               221440    \n",
      "_________________________________________________________________\n",
      "dropout_8 (Dropout)          (None, 256)               0         \n",
      "_________________________________________________________________\n",
      "dense_5 (Dense)              (None, 1)                 257       \n",
      "=================================================================\n",
      "Total params: 319,569\n",
      "Trainable params: 319,569\n",
      "Non-trainable params: 0\n",
      "_________________________________________________________________\n"
     ]
    }
   ],
   "source": [
    "inputs = keras.Input(shape=(48, 48, 3))\n",
    "x = inputs\n",
    "x = layers.Conv2D(32, 3, activation='relu', padding=\"same\")(x)\n",
    "x = layers.MaxPooling2D(2)(x)\n",
    "x = layers.Conv2D(48, 3, activation='relu', padding=\"same\")(x)\n",
    "x = layers.MaxPooling2D(2)(x)\n",
    "x = layers.Dropout(rate=0.5)(x)\n",
    "x = layers.Conv2D(64, 3, activation='relu', padding=\"same\")(x)\n",
    "x = layers.MaxPooling2D(2)(x)\n",
    "x = layers.Conv2D(96, 3, activation='relu', padding=\"same\")(x)\n",
    "x = layers.MaxPooling2D(2)(x)\n",
    "x = layers.Dropout(rate=0.5)(x)\n",
    "x = layers.Flatten()(x)\n",
    "x = layers.Dense(256, activation='relu')(x)\n",
    "x = layers.Dropout(rate=0.5)(x)\n",
    "x = layers.Dense(1, activation='sigmoid')(x)\n",
    "outputs = x\n",
    "\n",
    "model = keras.Model(inputs, outputs)\n",
    "model.summary()"
   ]
  },
  {
   "cell_type": "code",
   "execution_count": 63,
   "metadata": {
    "executionInfo": {
     "elapsed": 3,
     "status": "ok",
     "timestamp": 1630905076100,
     "user": {
      "displayName": "SEUNG HOON KANG",
      "photoUrl": "https://lh3.googleusercontent.com/a-/AOh14GjfqiLLUnHE4ChMj71apfRsTs6xwEGo_M4NGuR7=s64",
      "userId": "05643396865444436843"
     },
     "user_tz": -540
    },
    "id": "cgM0QHkfaYte"
   },
   "outputs": [],
   "source": [
    "num_iters = train_len // batch_size\n",
    "num_epochs = 10"
   ]
  },
  {
   "cell_type": "code",
   "execution_count": 64,
   "metadata": {
    "executionInfo": {
     "elapsed": 260,
     "status": "ok",
     "timestamp": 1630905082515,
     "user": {
      "displayName": "SEUNG HOON KANG",
      "photoUrl": "https://lh3.googleusercontent.com/a-/AOh14GjfqiLLUnHE4ChMj71apfRsTs6xwEGo_M4NGuR7=s64",
      "userId": "05643396865444436843"
     },
     "user_tz": -540
    },
    "id": "yJQcOModapPn"
   },
   "outputs": [],
   "source": [
    "def train_step(train_data_gen, test_data_gen, model) :\n",
    "    optimizer = tf.keras.optimizers.Adam(0.0001)\n",
    "    model = model\n",
    "    loss_fn = tf.keras.losses.BinaryCrossentropy()\n",
    "    num_test_iters = num_iters // 4\n",
    "    for epoch in range(num_epochs) :\n",
    "        epoch_loss_avg = tf.keras.metrics.Mean()\n",
    "        val_loss_avg = tf.keras.metrics.Mean()\n",
    "\n",
    "        for iter in range(num_iters) :\n",
    "            try:\n",
    "                x_batch, y_batch = next(train_data_gen)\n",
    "            except:\n",
    "                pass\n",
    "            with tf.GradientTape() as tape :\n",
    "                y_ = model(x_batch)\n",
    "                loss_value = loss_fn(y_batch, y_)\n",
    "                grads = tape.gradient(loss_value, model.trainable_variables)            \n",
    "            optimizer.apply_gradients(zip(grads, model.trainable_variables))\n",
    "            epoch_loss_avg(loss_value)\n",
    "        \n",
    "        for iter in range(num_test_iters) :\n",
    "            try:\n",
    "                x_batch, y_batch = next(test_data_gen)\n",
    "            except:\n",
    "                pass\n",
    "            y_ = model(x_batch)\n",
    "            loss_value = loss_fn(y_batch, y_)\n",
    "            val_loss_avg(loss_value)\n",
    "        \n",
    "\n",
    "        \n",
    "        print(\"Epoch {:03d}: , Train Loss: {:.5f}\".format(epoch, epoch_loss_avg.result()))\n",
    "        print(\"Val_Loss: {:.3f}\".format(val_loss_avg.result()))\n"
   ]
  },
  {
   "cell_type": "code",
   "execution_count": 65,
   "metadata": {
    "colab": {
     "base_uri": "https://localhost:8080/"
    },
    "executionInfo": {
     "elapsed": 97370,
     "status": "ok",
     "timestamp": 1630905188180,
     "user": {
      "displayName": "SEUNG HOON KANG",
      "photoUrl": "https://lh3.googleusercontent.com/a-/AOh14GjfqiLLUnHE4ChMj71apfRsTs6xwEGo_M4NGuR7=s64",
      "userId": "05643396865444436843"
     },
     "user_tz": -540
    },
    "id": "O4dcW5upavZR",
    "outputId": "192ca42c-fa64-4a47-acb7-3b3ce4e2bab6"
   },
   "outputs": [
    {
     "name": "stdout",
     "output_type": "stream",
     "text": [
      "WARNING:tensorflow:Layer conv2d_8 is casting an input tensor from dtype float64 to the layer's dtype of float32, which is new behavior in TensorFlow 2.  The layer has dtype float32 because it's dtype defaults to floatx.\n",
      "\n",
      "If you intended to run this layer in float32, you can safely ignore this warning. If in doubt, this warning is likely only an issue if you are porting a TensorFlow 1.X model to TensorFlow 2.\n",
      "\n",
      "To change all layers to have dtype float64 by default, call `tf.keras.backend.set_floatx('float64')`. To change just this layer, pass dtype='float64' to the layer constructor. If you are the author of this layer, you can disable autocasting by passing autocast=False to the base Layer constructor.\n",
      "\n",
      "Epoch 000: , Train Loss: 0.69619\n",
      "Val_Loss: 0.688\n",
      "Epoch 001: , Train Loss: 0.69342\n",
      "Val_Loss: 0.698\n",
      "Epoch 002: , Train Loss: 0.69298\n",
      "Val_Loss: 0.694\n",
      "Epoch 003: , Train Loss: 0.69226\n",
      "Val_Loss: 0.671\n",
      "Epoch 004: , Train Loss: 0.69403\n",
      "Val_Loss: 0.694\n",
      "Epoch 005: , Train Loss: 0.69333\n",
      "Val_Loss: 0.695\n",
      "Epoch 006: , Train Loss: 0.69331\n",
      "Val_Loss: 0.691\n",
      "Epoch 007: , Train Loss: 0.69354\n",
      "Val_Loss: 0.695\n",
      "Epoch 008: , Train Loss: 0.69300\n",
      "Val_Loss: 0.691\n",
      "Epoch 009: , Train Loss: 0.69327\n",
      "Val_Loss: 0.693\n"
     ]
    }
   ],
   "source": [
    "train_step(train_gen, test_gen, model)"
   ]
  },
  {
   "cell_type": "code",
   "execution_count": null,
   "metadata": {
    "id": "D2iUAoJga2KE"
   },
   "outputs": [],
   "source": []
  }
 ],
 "metadata": {
  "colab": {
   "authorship_tag": "ABX9TyPU0jGaYAKD4wW2FCFW9vEz",
   "collapsed_sections": [],
   "name": "주가예측 캔들스틱 이미지 변환과 CNN 모델 학습.ipynb",
   "provenance": []
  },
  "kernelspec": {
   "display_name": "Python 3 (ipykernel)",
   "language": "python",
   "name": "python3"
  },
  "language_info": {
   "codemirror_mode": {
    "name": "ipython",
    "version": 3
   },
   "file_extension": ".py",
   "mimetype": "text/x-python",
   "name": "python",
   "nbconvert_exporter": "python",
   "pygments_lexer": "ipython3",
   "version": "3.8.11"
  }
 },
 "nbformat": 4,
 "nbformat_minor": 1
}
