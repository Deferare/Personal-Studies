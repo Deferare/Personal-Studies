{
 "cells": [
  {
   "cell_type": "code",
   "execution_count": 71,
   "id": "5dc517de",
   "metadata": {},
   "outputs": [],
   "source": [
    "from selenium import webdriver\n",
    "from bs4 import BeautifulSoup\n",
    "\n",
    "# 크롬드라이버 사용.\n",
    "# driver = webdriver.Chrome('/Users/ubinyou/Downloads/chromedriver')\n",
    "\n",
    "# 사파리 사용.\n",
    "driver = webdriver.Safari()\n",
    "\n",
    "# 웹 딜레이 기다리는 최대 시간 설정.\n",
    "driver.implicitly_wait(10)\n",
    "\n",
    "# 특정 웹 사이트 열어서 클릭.\n",
    "driver.get(\"https://kr.tradingview.com/chart/?symbol=NASDAQ%3AAAPL\")\n",
    "driver.find_element_by_xpath(\"/html/body/div[2]/div[2]/div/div/div[1]/div/div/div/div/div/div[16]/div\").click()\n",
    "driver.find_element_by_xpath(\"/html/body/div[6]/div/span/div[1]/div/div/div[1]\").click()"
   ]
  },
  {
   "cell_type": "code",
   "execution_count": null,
   "id": "3f0c0633",
   "metadata": {},
   "outputs": [],
   "source": []
  }
 ],
 "metadata": {
  "kernelspec": {
   "display_name": "Python 3 (ipykernel)",
   "language": "python",
   "name": "python3"
  },
  "language_info": {
   "codemirror_mode": {
    "name": "ipython",
    "version": 3
   },
   "file_extension": ".py",
   "mimetype": "text/x-python",
   "name": "python",
   "nbconvert_exporter": "python",
   "pygments_lexer": "ipython3",
   "version": "3.8.11"
  }
 },
 "nbformat": 4,
 "nbformat_minor": 5
}
